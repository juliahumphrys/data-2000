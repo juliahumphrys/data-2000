{
  "nbformat": 4,
  "nbformat_minor": 0,
  "metadata": {
    "colab": {
      "provenance": [],
      "authorship_tag": "ABX9TyMv5HkzxR3xVfyurCK7ByHo"
    },
    "kernelspec": {
      "name": "python3",
      "display_name": "Python 3"
    },
    "language_info": {
      "name": "python"
    }
  },
  "cells": [
    {
      "cell_type": "markdown",
      "source": [
        "# (Re-)Introduction to Python\n",
        "\n",
        "The goal of this lesson is to give folks a working understanding of some major concepts in Python programming, including:\n",
        "\n",
        "- Classes\n",
        "- Functions & abstraction\n",
        "- Loops\n",
        "- Type hinting and data types\n",
        "- Control flows and procedural programming\n",
        "- Python standard library packages\n",
        "- Probably other goodies I don't feel like listing\n",
        "\n",
        "We will work through these labs in class to hit on all the above points, but feel free to give this a go yourself and see what you come up with!"
      ],
      "metadata": {
        "id": "ZZyVH1VRw4xq"
      }
    },
    {
      "cell_type": "markdown",
      "source": [
        "# Lab 01a: The Drunk Passenger problem\n",
        "\n",
        "Let's say that we have an airplane with 100 seats, and every seat is booked. Each of the 100 passengers has a ticket with a seat assignment. For simplicity, let's assume Passenger 1 is in Seat 1, Passenger 2 is in Seat 2, and so forth.\n",
        "\n",
        "But there's a wrinkle: Passenger 1 isn't a great traveller, so to try and calm their nerves they've had a little bit to drink and are slightly more tipsy than they should be. When Passenger 1 boards, they forget what seat they're assigned and sit in any random seat instead.\n",
        "\n",
        "For each passenger who boards after them, if their assigned seat is available, they will sit in it. If their assigned seat is already taken, they will also choose a new, random seat.\n",
        "\n",
        "**Write a program that boards all 100 passengers and returns the final seat assignment for Passenger 100. Does Passenger 100 get to keep their original seat or not?**"
      ],
      "metadata": {
        "id": "NRFeohsPyc4d"
      }
    },
    {
      "cell_type": "code",
      "source": [
        "import random\n",
        "\n",
        "\n",
        "def board_passengers() -> int:\n",
        "    # Create a list of 100 passengers and of 100 plane seats\n",
        "    passengers: list[int] = [x for x in range(100)]\n",
        "    seats: list[int] = [x for x in range(100)]\n",
        "\n",
        "    # Start by choosing a random seat for Passenger 0 to sit in\n",
        "    random_seat: int = random.choice(seats)\n",
        "\n",
        "    # Remove that seat from the list of available seats\n",
        "    seats.remove(random_seat)\n",
        "\n",
        "    # Remove Passenger 0 from the list of passengers to\n",
        "    # be boarded\n",
        "    passengers.remove(0)\n",
        "\n",
        "    # For passenger 2-98\n",
        "    for passenger in passengers[:-1]:\n",
        "        # If the original seat is not available\n",
        "        if passenger not in seats:\n",
        "            # Choose a new, available seat at random for\n",
        "            #  them to sit in\n",
        "            random_seat = random.choice(seats)\n",
        "            seats.remove(random_seat)\n",
        "        # Otherwise, keep their original seat\n",
        "        else:\n",
        "            seats.remove(passenger)\n",
        "\n",
        "    # Return the seat assignment of the last passenger,\n",
        "    # Passenger 99\n",
        "    return seats[0]\n",
        "\n",
        "final_seat = board_passengers()\n",
        "print(f\"The last passenger ended up in seat {final_seat}\")"
      ],
      "metadata": {
        "id": "eazpcLaiw7R5",
        "outputId": "33d029d0-855d-4656-d3bf-4f8033586c2c",
        "colab": {
          "base_uri": "https://localhost:8080/"
        }
      },
      "execution_count": 1,
      "outputs": [
        {
          "output_type": "stream",
          "name": "stdout",
          "text": [
            "The last passenger ended up in seat 0\n"
          ]
        }
      ]
    },
    {
      "cell_type": "markdown",
      "source": [
        "# Lab 01b: Return of the Drunk Passenger\n",
        "\n",
        "Great! So we've figured out that our poor final passenger to board got to keep their seat. Or maybe not. Really, who can say. Pseudorandom number generators, am I right?\n",
        "\n",
        "So let's extend our original program a bit. Instead of just boarding everyone once, let's do it 10,000 times!\n",
        "\n",
        "**Write a program that simulates the boarding process from Lab 01a 10,000 times. Keep track of how many times Passenger 100 is able to keep their assigned seat. What is the probability of Passenger 100 keeping their assigned seat?**"
      ],
      "metadata": {
        "id": "v52Pd-xNzxYh"
      }
    },
    {
      "cell_type": "code",
      "source": [
        "kept_seat_count: int = 0\n",
        "n_iterations = 10000\n",
        "\n",
        "for flight in range(n_iterations):\n",
        "    kept_seat_count += board_passengers() == 99\n",
        "\n",
        "kept_percentage: float = round((kept_seat_count / n_iterations) * 100, 2)\n",
        "print(f\"The last passenger kept their seat {kept_percentage}% of the time\")"
      ],
      "metadata": {
        "id": "X1dUXUHl0zyL",
        "outputId": "cda8b1d5-27b3-4d93-c462-4adac53b2f86",
        "colab": {
          "base_uri": "https://localhost:8080/"
        }
      },
      "execution_count": 2,
      "outputs": [
        {
          "output_type": "stream",
          "name": "stdout",
          "text": [
            "The last passenger kept their seat 50.45% of the time\n"
          ]
        }
      ]
    }
  ]
}