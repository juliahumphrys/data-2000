{
  "nbformat": 4,
  "nbformat_minor": 0,
  "metadata": {
    "colab": {
      "provenance": [],
      "authorship_tag": "ABX9TyOb9miU8sjzQFaKK2Y45adZ"
    },
    "kernelspec": {
      "name": "python3",
      "display_name": "Python 3"
    },
    "language_info": {
      "name": "python"
    }
  },
  "cells": [
    {
      "cell_type": "code",
      "execution_count": null,
      "metadata": {
        "id": "4BnT4U2Mwwwp"
      },
      "outputs": [],
      "source": []
    },
    {
      "cell_type": "markdown",
      "source": [
        "# (Re-)Introduction to Python\n",
        "\n",
        "The goal of this lesson is to give folks a working understanding of some major concepts in Python programming, including:\n",
        "\n",
        "- Classes\n",
        "- Functions & abstraction\n",
        "- Loops\n",
        "- Type hinting and data types\n",
        "- Control flows and procedural programming\n",
        "- Probably other goodies I don't feel like listing"
      ],
      "metadata": {
        "id": "ZZyVH1VRw4xq"
      }
    },
    {
      "cell_type": "code",
      "source": [],
      "metadata": {
        "id": "eazpcLaiw7R5"
      },
      "execution_count": null,
      "outputs": []
    }
  ]
}