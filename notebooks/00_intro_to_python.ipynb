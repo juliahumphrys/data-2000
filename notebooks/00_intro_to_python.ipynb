{
  "nbformat": 4,
  "nbformat_minor": 0,
  "metadata": {
    "colab": {
      "provenance": [],
      "authorship_tag": "ABX9TyNIVYmZDnEg01i34E1Vutux"
    },
    "kernelspec": {
      "name": "python3",
      "display_name": "Python 3"
    },
    "language_info": {
      "name": "python"
    }
  },
  "cells": [
    {
      "cell_type": "markdown",
      "source": [
        "# (Re-)Introduction to Python\n",
        "\n",
        "The goal of this lesson is to give folks a working understanding of some major concepts in Python programming, including:\n",
        "\n",
        "- Classes\n",
        "- Functions & abstraction\n",
        "- Loops\n",
        "- Type hinting and data types\n",
        "- Control flows and procedural programming\n",
        "- Python standard library packages\n",
        "- Probably other goodies I don't feel like listing\n",
        "\n",
        "We will work through these labs in class to hit on all the above points, but feel free to give this a go yourself and see what you come up with!"
      ],
      "metadata": {
        "id": "ZZyVH1VRw4xq"
      }
    },
    {
      "cell_type": "markdown",
      "source": [
        "# Lab 01a: The Drunk Passenger problem\n",
        "\n",
        "Let's say that we have an airplane with 100 seats, and every seat is booked. Each of the 100 passengers has a ticket with a seat assignment. For simplicity, let's assume Passenger 1 is in Seat 1, Passenger 2 is in Seat 2, and so forth.\n",
        "\n",
        "But there's a wrinkle: Passenger 1 isn't a great traveller, so to try and calm their nerves they've had a little bit to drink and are slightly more tipsy than they should be. When Passenger 1 boards, they forget what seat they're assigned and sit in any random seat instead.\n",
        "\n",
        "For each passenger who boards after them, if their assigned seat is available, they will sit in it. If their assigned seat is already taken, they will also choose a new, random seat.\n",
        "\n",
        "**Write a program that boards all 100 passengers and returns the final seat assignment for Passenger 100. Does Passenger 100 get to keep their original seat or not?**"
      ],
      "metadata": {
        "id": "NRFeohsPyc4d"
      }
    },
    {
      "cell_type": "code",
      "source": [
        "import random\n",
        "\n",
        "\n",
        "passengers: list[int] = [x for x in range(100)]\n",
        "seats: list[int] = [x for x in range(100)]\n",
        "\n",
        "curr_passenger = 0\n",
        "curr_seat = 0\n",
        "\n",
        "\n",
        "def main():\n",
        "    random_seat = random.choice(seats)\n",
        "    seats.remove(random_seat)\n",
        "    passengers.remove(0)\n",
        "\n",
        "    for passenger in passengers[:-1]:\n",
        "        if passenger not in seats:\n",
        "            random_seat = random.choice(seats)\n",
        "            seats.remove(random_seat)\n",
        "        else:\n",
        "            seats.remove(passenger)\n",
        "    print(seats)\n",
        "\n",
        "main()"
      ],
      "metadata": {
        "id": "eazpcLaiw7R5",
        "outputId": "9deb5b7f-ea19-4758-ed1e-1da09c11d640",
        "colab": {
          "base_uri": "https://localhost:8080/"
        }
      },
      "execution_count": 13,
      "outputs": [
        {
          "output_type": "stream",
          "name": "stdout",
          "text": [
            "[0]\n"
          ]
        }
      ]
    },
    {
      "cell_type": "markdown",
      "source": [
        "# Lab 01b: Return of the Drunk Passenger\n",
        "\n",
        "Great! So we've figured out that our poor final passenger to board got to keep their seat. Or maybe not. Really, who can say. Pseudorandom number generators, am I right?\n",
        "\n",
        "So let's extend our original program a bit. Instead of just boarding everyone once, let's do it 10,000 times!\n",
        "\n",
        "**Write a program that simulates the boarding process from Lab 01a 10,000 times. Keep track of how many times Passenger 100 is able to keep their assigned seat. What is the probability of Passenger 100 keeping their assigned seat?**"
      ],
      "metadata": {
        "id": "v52Pd-xNzxYh"
      }
    },
    {
      "cell_type": "code",
      "source": [],
      "metadata": {
        "id": "X1dUXUHl0zyL"
      },
      "execution_count": null,
      "outputs": []
    }
  ]
}