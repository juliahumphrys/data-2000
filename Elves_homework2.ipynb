{
  "nbformat": 4,
  "nbformat_minor": 0,
  "metadata": {
    "colab": {
      "provenance": [],
      "authorship_tag": "ABX9TyN5tQfeE4gbiW8+C5ZGvJc/",
      "include_colab_link": true
    },
    "kernelspec": {
      "name": "python3",
      "display_name": "Python 3"
    },
    "language_info": {
      "name": "python"
    }
  },
  "cells": [
    {
      "cell_type": "markdown",
      "metadata": {
        "id": "view-in-github",
        "colab_type": "text"
      },
      "source": [
        "<a href=\"https://colab.research.google.com/github/juliahumphrys/data-2000/blob/main/Elves_homework2.ipynb\" target=\"_parent\"><img src=\"https://colab.research.google.com/assets/colab-badge.svg\" alt=\"Open In Colab\"/></a>"
      ]
    },
    {
      "cell_type": "code",
      "execution_count": 24,
      "metadata": {
        "colab": {
          "base_uri": "https://localhost:8080/"
        },
        "id": "LFGeGiblimzE",
        "outputId": "e3951d2d-75da-42fc-ae15-baf52a0d715f"
      },
      "outputs": [
        {
          "output_type": "execute_result",
          "data": {
            "text/plain": [
              "['lDDWVvlVVQfDMlWjGJTRjQCgTGLCLj\\n',\n",
              " 'ZLZpwzLBhwZhSLBsjntGCtgJRjbnJgSG\\n',\n",
              " 'qppdZzzsdsmZphrNsNwZhllDHLcVVDWFPvFWcWdFlv\\n']"
            ]
          },
          "metadata": {},
          "execution_count": 24
        }
      ],
      "source": [
        "with open('rucksack-input', 'r') as f:\n",
        "  data = f.readlines()\n",
        "  lines = f.read().splitlines()\n",
        "\n",
        "data[0:3]"
      ]
    },
    {
      "cell_type": "code",
      "source": [
        "lowercase_priorities = {}\n",
        "uppercase_priorities = {}"
      ],
      "metadata": {
        "id": "zrjAsYcTIV8r"
      },
      "execution_count": 25,
      "outputs": []
    },
    {
      "cell_type": "code",
      "source": [
        "def get_priority(item_type):\n",
        "  if 'a' <= item_type <= 'z':\n",
        "    return ord(item_type) - ord('a') + 1\n",
        "  else:\n",
        "    return ord(item_type) - ord('A') + 27"
      ],
      "metadata": {
        "id": "N0OsTvMnIYwo"
      },
      "execution_count": 26,
      "outputs": []
    },
    {
      "cell_type": "code",
      "source": [
        "total_priority1 = 0\n",
        "for rucksack in lines:\n",
        "  part1 = rucksack[:len(rucksack)//2]\n",
        "  part2 = rucksack[len(rucksack)//2:]\n",
        "  common_item = set(part1) & set(part2)"
      ],
      "metadata": {
        "id": "IiAcd0CNIekB"
      },
      "execution_count": 27,
      "outputs": []
    },
    {
      "cell_type": "code",
      "source": [
        "for item in common_item:\n",
        "  priority = get_priority(item)\n",
        "  if 'a' <= item <= 'z':\n",
        "    lowercase_priorities[item] = priority\n",
        "  else:\n",
        "    uppercase_priorities[item] = priority\n",
        "\n",
        "total_priority1 = sum(lowercase_priorities.values()) + sum(uppercase_priorities.values())"
      ],
      "metadata": {
        "id": "e6xhuJoPI3l4"
      },
      "execution_count": 28,
      "outputs": []
    },
    {
      "cell_type": "code",
      "source": [
        "print(\"Total Priority for Part 1:\", total_priority1)"
      ],
      "metadata": {
        "colab": {
          "base_uri": "https://localhost:8080/"
        },
        "id": "72BKVmtkJiBq",
        "outputId": "b38a08ee-25d4-4d4a-d606-b750de5a0bae"
      },
      "execution_count": 29,
      "outputs": [
        {
          "output_type": "stream",
          "name": "stdout",
          "text": [
            "Total Priority for Part 1: 52\n"
          ]
        }
      ]
    },
    {
      "cell_type": "code",
      "source": [
        "total_priorities2 = 0"
      ],
      "metadata": {
        "id": "TkLU7fkILMHA"
      },
      "execution_count": 30,
      "outputs": []
    },
    {
      "cell_type": "code",
      "source": [
        "for group_rucksacks in groups:\n",
        "    group_priorities = {}\n",
        "    common_item = set(group_rucksacks[0]) & set(group_rucksacks[1]) & set(group_rucksacks[2])\n",
        "    for item in common_item:\n",
        "        priority = get_priority(item)\n",
        "        group_priorities[item] = priority\n",
        "        group_total_priority = sum(group_priorities.values())\n",
        "    total_priorities2 += group_total_priority"
      ],
      "metadata": {
        "id": "t0oBVAD9LPjo"
      },
      "execution_count": 31,
      "outputs": []
    },
    {
      "cell_type": "code",
      "source": [
        "print(\"Total Priorities in Part 2:\", total_priorities2)"
      ],
      "metadata": {
        "colab": {
          "base_uri": "https://localhost:8080/"
        },
        "id": "w1Uczy5c-0ET",
        "outputId": "83e2e21b-0fdd-4f90-9d90-e37aebd56471"
      },
      "execution_count": 33,
      "outputs": [
        {
          "output_type": "stream",
          "name": "stdout",
          "text": [
            "Total Priorities in Part 2: 70\n"
          ]
        }
      ]
    }
  ]
}