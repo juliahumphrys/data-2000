{
 "cells": [
  {
   "cell_type": "markdown",
   "id": "ac7d6f8e-403f-4999-bff5-cf67150a481f",
   "metadata": {
    "slideshow": {
     "slide_type": "notes"
    },
    "tags": []
   },
   "source": [
    "Materials adapted from MIT 6.0001: https://ocw.mit.edu/courses/6-0001-introduction-to-computer-science-and-programming-in-python-fall-2016/pages/lecture-slides-code/"
   ]
  },
  {
   "cell_type": "markdown",
   "id": "80d3e28b-2206-426c-8684-b01545c74bca",
   "metadata": {
    "slideshow": {
     "slide_type": "slide"
    },
    "tags": []
   },
   "source": [
    "# Python Refresher\n",
    "\n",
    "## 2023-09-28"
   ]
  },
  {
   "cell_type": "markdown",
   "id": "d40c440d-41d7-4ba1-beaf-a378b4c75f44",
   "metadata": {
    "slideshow": {
     "slide_type": "slide"
    },
    "tags": []
   },
   "source": [
    "# Python Programs\n",
    "\n",
    "- a **program** is a sequence of definitions and commands\n",
    "  - definitions **evaluated**\n",
    "  - commands **executed** by Python interpreter in a shell\n",
    "- **commands** (statements) instruct interpreter to do something\n",
    "- can be typed directly in a **shell** or stored in a **file** that is read into the shell and evaluated"
   ]
  },
  {
   "cell_type": "markdown",
   "id": "1513403b-df81-4b4f-9b89-24b0b4323b05",
   "metadata": {
    "slideshow": {
     "slide_type": "slide"
    },
    "tags": []
   },
   "source": [
    "# Objects\n",
    "\n",
    "- programs manipulate **data objects**\n",
    "- objects have a **type** that defines the kinds of things programs can do to them\n",
    "  - Ana is a human so she can walk, speak English, etc.\n",
    "  - Chewbacca is a wookie so he can walk, “mwaaarhrhh”, etc.\n",
    "- objects are\n",
    "  - scalar (cannot be subdivided)\n",
    "  - non-scalar (have internal structure that can be accessed)"
   ]
  },
  {
   "cell_type": "markdown",
   "id": "7350ab9b-da9d-4f36-bc75-5fd3fc04b9d1",
   "metadata": {
    "slideshow": {
     "slide_type": "slide"
    },
    "tags": []
   },
   "source": [
    "# Scalar Objects\n",
    "\n",
    "- `int` --- represents integers (e.g., `5`)\n",
    "- `float` --- represents real numbers (e.g., `3.14`)\n",
    "- `bool` --- represents boolean values (`True` and `False`)\n",
    "- `NoneType` --- special, only has value `None`"
   ]
  },
  {
   "cell_type": "markdown",
   "id": "a4678d93-e4e5-4a04-a9a8-9d17980de4dd",
   "metadata": {
    "slideshow": {
     "slide_type": "subslide"
    },
    "tags": []
   },
   "source": [
    "- can use `type()` to see an object's type:\n",
    "```python\n",
    ">>> type(5)\n",
    "int\n",
    ">>> type(3.0)\n",
    "float\n",
    "```"
   ]
  },
  {
   "cell_type": "markdown",
   "id": "a564eec0-d6f1-4423-9ef4-d4669b875773",
   "metadata": {
    "slideshow": {
     "slide_type": "subslide"
    },
    "tags": []
   },
   "source": [
    "- can convert objects of one type into another (usually...):\n",
    "\n",
    "```python\n",
    ">>> float(5)\n",
    "5.0\n",
    ">>> int(3.9)\n",
    "3\n",
    "```"
   ]
  },
  {
   "cell_type": "markdown",
   "id": "04c1a91d-eef9-44fa-ac54-8eef20b4c942",
   "metadata": {
    "slideshow": {
     "slide_type": "slide"
    },
    "tags": []
   },
   "source": [
    "# Expressions\n",
    "\n",
    "- combine objects and operators to form expressions\n",
    "- an expression has a value, which has a type\n",
    "- syntax for a simple expression:\n",
    "\n",
    "    `<object> <operator> <object>`"
   ]
  },
  {
   "cell_type": "markdown",
   "id": "4f72780d-bc75-4141-94e5-0c4ce4035bdd",
   "metadata": {
    "slideshow": {
     "slide_type": "subslide"
    },
    "tags": []
   },
   "source": [
    "## Operators on ints and floats\n",
    "\n",
    "- `i + j` -> sum of two values\n",
    "- `i - j` -> difference of two values\n",
    "- `i * j` -> product of two values\n",
    "- `i / j` -> division\n",
    "\n",
    "- `i % j` -> remainder when `i` is divided by `j` (**modulo** operator)\n",
    "- `i ** j` -> `i` to the `j`th power"
   ]
  },
  {
   "cell_type": "markdown",
   "id": "6018e9f7-c785-4ed9-abbc-ea6da78f9777",
   "metadata": {
    "slideshow": {
     "slide_type": "slide"
    },
    "tags": []
   },
   "source": [
    "# Strings\n",
    "\n",
    "- letters, special characters, spaces, digits\n",
    "- enclose in **quotation marks or single quotes**\n",
    "\n",
    "```python\n",
    "hi = \"hello there\"\n",
    "```\n",
    "\n",
    "- **concatenate** strings\n",
    "\n",
    "```python\n",
    "name = \"anna\"\n",
    "greeting = hi + \", \" + name\n",
    "greeting = f\"{hi}, {name}\"\n",
    "```"
   ]
  },
  {
   "cell_type": "markdown",
   "id": "e4bb62b0-9080-479a-9ba3-3411bda635fb",
   "metadata": {
    "slideshow": {
     "slide_type": "slide"
    },
    "tags": []
   },
   "source": [
    "# Comparison Operators\n",
    "\n",
    "- `i > j`\n",
    "- `i >= j`\n",
    "- `i < j`\n",
    "- `i <= j`\n",
    "- `i == j` -> equality test, `True` if `i` and `j` are the same\n",
    "- `i != j` -> inequality test, `True` if `i` and `j` are different"
   ]
  },
  {
   "cell_type": "markdown",
   "id": "5ca4a29d-8479-47d0-b4e8-d29d4cbb1fce",
   "metadata": {
    "slideshow": {
     "slide_type": "slide"
    },
    "tags": []
   },
   "source": [
    "# Logic Operators on booleans\n",
    "\n",
    "- `not a` -> `True` is `a` is `False`\n",
    "- `a and b` -> `True` if both `a` and `b` are `True`\n",
    "- `a or b` -> `True` if either `a` or `b` is `True`"
   ]
  },
  {
   "cell_type": "markdown",
   "id": "40a1107e-f072-40fa-8bf2-fbd86093c58e",
   "metadata": {
    "slideshow": {
     "slide_type": "slide"
    },
    "tags": []
   },
   "source": [
    "# Tuples\n",
    "\n",
    "- A tuple is an ordered sequence of elements of one or more type\n",
    "- Tuples are immutable and elements cannot be changed\n",
    "- Represented with parentheses:\n",
    "\n",
    "```python\n",
    "my_tuple = (1, \"two\", False)\n",
    "```\n",
    "\n",
    "- Tuples are iterable"
   ]
  },
  {
   "cell_type": "markdown",
   "id": "568404a1-07da-45ee-9625-f0f51d5e8344",
   "metadata": {
    "slideshow": {
     "slide_type": "slide"
    },
    "tags": []
   },
   "source": [
    "# Lists\n",
    "\n",
    "- Lists are ordered sequences of information, accessible by index (position)\n",
    "- A list is denoted with square brackets, `[]`\n",
    "- A list contains elements, usually of the same data type, but not necessarily\n",
    "- Lists are mutable and elements can be changed\n",
    "- Lists are iterable"
   ]
  },
  {
   "cell_type": "code",
   "execution_count": 1,
   "id": "3ba2af2a-a534-4d70-bce0-caaf1bb9fcc7",
   "metadata": {
    "slideshow": {
     "slide_type": "subslide"
    },
    "tags": []
   },
   "outputs": [
    {
     "name": "stdout",
     "output_type": "stream",
     "text": [
      "[1, 'a', 3, 'flarp', 4]\n",
      "3\n",
      "aaa\n",
      "[1, 'a', 'not 3', 'flarp', 4]\n"
     ]
    }
   ],
   "source": [
    "my_list = [1, 'a', 3, 'flarp']\n",
    "\n",
    "my_list.append(4)\n",
    "print(my_list)\n",
    "\n",
    "print(my_list[0] * 3)\n",
    "print(my_list[1] *  3)\n",
    "\n",
    "my_list[2] = \"not 3\"\n",
    "print(my_list)"
   ]
  },
  {
   "cell_type": "markdown",
   "id": "9527adaf-f351-4674-9880-e79ad83b82a0",
   "metadata": {
    "slideshow": {
     "slide_type": "slide"
    },
    "tags": []
   },
   "source": [
    "# Dictionaries\n",
    "\n",
    "- A dictionary is a way to store pairs of keys and values\n",
    "    - Values are mutable, can by any type, and can be duplicated\n",
    "    - Keys are an immutable type (`int`, `float`, `string`, `tuple`, `bool`) and must be unique\n",
    "- Dictionary keys are **unordered**"
   ]
  },
  {
   "cell_type": "code",
   "execution_count": 2,
   "id": "79dcba88-1e20-4291-ae00-dabf8688e1f7",
   "metadata": {},
   "outputs": [
    {
     "name": "stdout",
     "output_type": "stream",
     "text": [
      "Sabina\n"
     ]
    }
   ],
   "source": [
    "sample_dict = {\"name\": \"Sabina\", \"age\": 37, \"country\": \"DE\"}\n",
    "print(sample_dict['name'])"
   ]
  },
  {
   "cell_type": "markdown",
   "id": "2b91a233-d2e6-480d-a6d7-3411e979a3ea",
   "metadata": {
    "slideshow": {
     "slide_type": "slide"
    },
    "tags": []
   },
   "source": [
    "# Control Flow Branching\n",
    "\n",
    "```python\n",
    "if <condition>:\n",
    "    <expression>\n",
    "```\n",
    "\n",
    "```python\n",
    "if <condition>:\n",
    "    <expression>\n",
    "else:\n",
    "    <expression>\n",
    "```\n",
    "\n",
    "```python\n",
    "if <condition>:\n",
    "    <expression>\n",
    "elif <condition:\n",
    "    <expression>\n",
    "else:\n",
    "    <expression>\n",
    "```"
   ]
  },
  {
   "cell_type": "markdown",
   "id": "a3a8590e-28a1-410d-a6eb-3c6db5037331",
   "metadata": {
    "slideshow": {
     "slide_type": "slide"
    },
    "tags": []
   },
   "source": [
    "# Control Flows: `while` loops\n",
    "\n",
    "```python\n",
    "while <condition>:\n",
    "    <expression>\n",
    "```\n",
    "\n",
    "- `<condition>` evaluates to a Boolean\n",
    "- if `<condition>` is `True`, do all the steps inside the `while` code block\n",
    "- check `<condition>` again\n",
    "- repeat until `<condition>` is `False`"
   ]
  },
  {
   "cell_type": "markdown",
   "id": "e641b73d-3df1-4189-acb4-56c91083f5fd",
   "metadata": {
    "slideshow": {
     "slide_type": "subslide"
    },
    "tags": []
   },
   "source": [
    "## Exit conditions: Will it stop?\n",
    "\n",
    "```python\n",
    "i = 0\n",
    "while i < 256:\n",
    "    print(i)\n",
    "    i -= 1\n",
    "```"
   ]
  },
  {
   "cell_type": "markdown",
   "id": "24fd7236-f195-4e11-bfc0-c3894f1b7eec",
   "metadata": {
    "slideshow": {
     "slide_type": "subslide"
    },
    "tags": []
   },
   "source": [
    "## Exit conditions: Will it stop?\n",
    "\n",
    "```python\n",
    "i = 0\n",
    "while i < 256:\n",
    "    print(i)\n",
    "    i += 1\n",
    "```"
   ]
  },
  {
   "cell_type": "markdown",
   "id": "183c06a5-3dea-422a-a28e-925869d77d1f",
   "metadata": {
    "slideshow": {
     "slide_type": "subslide"
    },
    "tags": []
   },
   "source": [
    "## Exit conditions: Will it stop?\n",
    "\n",
    "```python\n",
    "input = \"hello, world\"\n",
    "i = 0\n",
    "while i < len(input):\n",
    "    print(input[i])\n",
    "```"
   ]
  },
  {
   "cell_type": "markdown",
   "id": "2d2e872c-1bc6-4d77-bbcb-98816b353705",
   "metadata": {
    "slideshow": {
     "slide_type": "subslide"
    },
    "tags": []
   },
   "source": [
    "## Exit conditions: Will it stop?\n",
    "\n",
    "```python\n",
    "i = 0\n",
    "while i < 256:\n",
    "    print(i)\n",
    "    i += 1\n",
    "    \n",
    "    if i == 42:\n",
    "        break\n",
    "```"
   ]
  },
  {
   "cell_type": "markdown",
   "id": "adae71cc-4c96-40ec-925a-b5cbfa5e929f",
   "metadata": {
    "slideshow": {
     "slide_type": "slide"
    },
    "tags": []
   },
   "source": [
    "# Control Flows: `for` loops\n",
    "\n",
    "```python\n",
    "for <variable> in range(<number>):\n",
    "    <expression>\n",
    "```\n",
    "\n",
    "- Each time through the loop, `<variable>` takes a value\n",
    "- `<variable>` will increment each new time through the loop until exhausting the range"
   ]
  },
  {
   "cell_type": "markdown",
   "id": "13752c46-bf7c-48d1-b3d8-ae5d6fe6d78c",
   "metadata": {
    "slideshow": {
     "slide_type": "subslide"
    },
    "tags": []
   },
   "source": [
    "`for` loops can operate over multiple variables at once:"
   ]
  },
  {
   "cell_type": "code",
   "execution_count": 3,
   "id": "1fb5a512-bc69-4e65-8f6b-1f787ba6c030",
   "metadata": {
    "tags": []
   },
   "outputs": [
    {
     "name": "stdout",
     "output_type": "stream",
     "text": [
      "name, Sabina\n",
      "age, 37\n",
      "country, DE\n"
     ]
    }
   ],
   "source": [
    "sample_dict = {\"name\": \"Sabina\", \"age\": 37, \"country\": \"DE\"}\n",
    "for key, val in sample_dict.items():\n",
    "    print(f\"{key}, {val}\")"
   ]
  },
  {
   "cell_type": "markdown",
   "id": "e6ebbeaf-1ea6-413d-839a-af003f315f9c",
   "metadata": {
    "tags": []
   },
   "source": [
    "And ranges don't need to start at `0` or incremnt by `1`:"
   ]
  },
  {
   "cell_type": "code",
   "execution_count": 4,
   "id": "b6e7e88e-aebf-4bd1-a448-5ab779b10f57",
   "metadata": {
    "tags": []
   },
   "outputs": [
    {
     "name": "stdout",
     "output_type": "stream",
     "text": [
      "[-50, -43, -36, -29, -22, -15, -8, -1, 6]\n"
     ]
    }
   ],
   "source": [
    "result = []\n",
    "for x in range(-50, 13, 7):\n",
    "    result.append(x)\n",
    "print(result)"
   ]
  },
  {
   "cell_type": "markdown",
   "id": "becd7dc2-d0d1-4d6f-a52f-3bddd6721e7f",
   "metadata": {
    "slideshow": {
     "slide_type": "subslide"
    },
    "tags": []
   },
   "source": [
    "**List comprehension** is also a convenient way to do an inline `for` loop:"
   ]
  },
  {
   "cell_type": "code",
   "execution_count": 5,
   "id": "9de7b59c-e70e-4891-897b-26fd0e78d790",
   "metadata": {},
   "outputs": [
    {
     "name": "stdout",
     "output_type": "stream",
     "text": [
      "[1, 4, 9, 16, 25]\n"
     ]
    }
   ],
   "source": [
    "input = [1, 2, 3, 4, 5]\n",
    "output = [x**2 for x in input]\n",
    "print(output)"
   ]
  },
  {
   "cell_type": "markdown",
   "id": "553f4e9a-638b-49b2-abe4-6ee99f9a6173",
   "metadata": {
    "slideshow": {
     "slide_type": "slide"
    },
    "tags": []
   },
   "source": [
    "# `for` Versus `while` loops\n",
    "\n",
    "- `for` loops:\n",
    "  - **known** number of iterations\n",
    "  - can end early with `break`\n",
    "  - uses a **counter**\n",
    "  - can always be rewritten as a `while` loop\n",
    "- `while` loops:\n",
    "  - **unbounded** number of iterations\n",
    "  - can ean early with `break`\n",
    "  - can use a counter, but **must initialize** outside of loop, and increment inside of loop\n",
    "  - not always able to be rewritten as a `for` loop"
   ]
  },
  {
   "cell_type": "markdown",
   "id": "2ea4c7e1-959c-49f6-bc31-45c0ce8be80c",
   "metadata": {
    "slideshow": {
     "slide_type": "slide"
    },
    "tags": []
   },
   "source": [
    "# Decomposition, Abstraction, and Functions\n",
    "\n",
    "## Why use many word, when few word do trick"
   ]
  },
  {
   "cell_type": "markdown",
   "id": "18d0b91b-ce91-425e-93b4-8e2a11a52fd2",
   "metadata": {
    "slideshow": {
     "slide_type": "slide"
    },
    "tags": []
   },
   "source": [
    "# Decomposition\n",
    "\n",
    "- We can divide our code into **modules**\n",
    "- These are\n",
    "  - self-contained\n",
    "  - used to break up code\n",
    "  - intended to be reusable\n",
    "  - used to keep code organized\n",
    "  - used to keep code coherent"
   ]
  },
  {
   "cell_type": "markdown",
   "id": "4a8dfe34-a488-4da0-90e5-4aa4f41f6089",
   "metadata": {
    "slideshow": {
     "slide_type": "slide"
    },
    "tags": []
   },
   "source": [
    "# Functions\n",
    "\n",
    "- reusable chunks of code\n",
    "- Functions are not run by default; they need to be called or invoked\n",
    "- Functions include:\n",
    "  - a name\n",
    "  - parameters (0 or more)\n",
    "  - a docstring (optionally)\n",
    "  - a body\n",
    "  - a return value"
   ]
  },
  {
   "cell_type": "markdown",
   "id": "8b5016a9-8f8c-4ebb-9d56-5fe2adf12733",
   "metadata": {
    "slideshow": {
     "slide_type": "subslide"
    },
    "tags": []
   },
   "source": [
    "## Anatomy of a Function\n",
    "\n",
    "```python\n",
    "def name(parameter):\n",
    "    \"\"\"\n",
    "    docstring\n",
    "    \"\"\"\n",
    "    print(\"this is the body\")\n",
    "    return True\n",
    "```"
   ]
  },
  {
   "cell_type": "markdown",
   "id": "ac10ce96-f9fa-4eb6-a707-f2f9340e066c",
   "metadata": {
    "slideshow": {
     "slide_type": "slide"
    },
    "tags": []
   },
   "source": [
    "# Lexical Scoping\n",
    "\n",
    "- Functions create their own **scope**\n",
    "- Information inside of a function doesn't exist outside of that function\n",
    "- Information inside of a function doesn't exist except when the function is executing\n",
    "- Functions can still reference information that exists outside of their scope"
   ]
  },
  {
   "cell_type": "markdown",
   "id": "7a877cdf-e6e3-4725-8f14-fb51fbae3e99",
   "metadata": {
    "slideshow": {
     "slide_type": "subslide"
    },
    "tags": []
   },
   "source": [
    "# What's the output?"
   ]
  },
  {
   "cell_type": "code",
   "execution_count": null,
   "id": "59aa4aac-e320-48f7-8a8f-4729514daada",
   "metadata": {},
   "outputs": [],
   "source": [
    "def f(x):\n",
    "    x = x + 1\n",
    "    return x\n",
    "\n",
    "x = 3\n",
    "f(x)\n",
    "print(x)"
   ]
  },
  {
   "cell_type": "markdown",
   "id": "550f6f5c-c323-4c92-a8fa-f74c1735e9ea",
   "metadata": {
    "slideshow": {
     "slide_type": "subslide"
    },
    "tags": []
   },
   "source": [
    "# What's the output?"
   ]
  },
  {
   "cell_type": "code",
   "execution_count": 6,
   "id": "7364f285-a486-4591-8ea3-a032c2eda68d",
   "metadata": {},
   "outputs": [
    {
     "name": "stdout",
     "output_type": "stream",
     "text": [
      "3\n"
     ]
    }
   ],
   "source": [
    "def f(x):\n",
    "    x = x + 1\n",
    "    return x\n",
    "\n",
    "x = 3\n",
    "f(x)\n",
    "print(x)"
   ]
  },
  {
   "cell_type": "markdown",
   "id": "f041cdb7-605b-4f86-a183-10f49e7b5231",
   "metadata": {
    "slideshow": {
     "slide_type": "subslide"
    },
    "tags": []
   },
   "source": [
    "# What's the output?"
   ]
  },
  {
   "cell_type": "code",
   "execution_count": null,
   "id": "023fbc18-01ae-4eed-a068-a9f476c9b4dd",
   "metadata": {},
   "outputs": [],
   "source": [
    "x = 17\n",
    "\n",
    "def f():\n",
    "    y = x + 1\n",
    "    return y\n",
    "\n",
    "f()\n",
    "print(x)"
   ]
  },
  {
   "cell_type": "markdown",
   "id": "e8138125-1754-4b25-897d-4aa2a9210c67",
   "metadata": {
    "slideshow": {
     "slide_type": "subslide"
    },
    "tags": []
   },
   "source": [
    "# What's the output?"
   ]
  },
  {
   "cell_type": "code",
   "execution_count": 9,
   "id": "ab3edb8f-5e73-49be-858f-f97a075c6a66",
   "metadata": {},
   "outputs": [
    {
     "name": "stdout",
     "output_type": "stream",
     "text": [
      "17\n"
     ]
    }
   ],
   "source": [
    "x = 17\n",
    "\n",
    "def f():\n",
    "    y = x + 1\n",
    "    return y\n",
    "\n",
    "f()\n",
    "print(x)"
   ]
  },
  {
   "cell_type": "markdown",
   "id": "d93394e4-c832-4d1e-8eb7-a3cee7019e58",
   "metadata": {
    "slideshow": {
     "slide_type": "subslide"
    },
    "tags": []
   },
   "source": [
    "# What's the output?"
   ]
  },
  {
   "cell_type": "code",
   "execution_count": null,
   "id": "92008e1d-b9ac-4620-b3ed-dd4f5edb1504",
   "metadata": {},
   "outputs": [],
   "source": [
    "x = 12\n",
    "\n",
    "def f():\n",
    "    y = x + 1\n",
    "    return y\n",
    "\n",
    "x += f()\n",
    "print(x)"
   ]
  },
  {
   "cell_type": "markdown",
   "id": "d329cb3c-c5d2-40a6-b594-2cafd665669a",
   "metadata": {
    "slideshow": {
     "slide_type": "subslide"
    },
    "tags": []
   },
   "source": [
    "# What's the output?"
   ]
  },
  {
   "cell_type": "code",
   "execution_count": 10,
   "id": "f0e7253e-3868-46ab-9541-c256f84a8d8b",
   "metadata": {},
   "outputs": [
    {
     "name": "stdout",
     "output_type": "stream",
     "text": [
      "25\n"
     ]
    }
   ],
   "source": [
    "x = 12\n",
    "\n",
    "def f():\n",
    "    y = x + 1\n",
    "    return y\n",
    "\n",
    "x += f()\n",
    "print(x)"
   ]
  },
  {
   "cell_type": "markdown",
   "id": "c3a22220-bac9-41f6-9b93-7969f532ae48",
   "metadata": {
    "slideshow": {
     "slide_type": "subslide"
    },
    "tags": []
   },
   "source": [
    "# What's the output?"
   ]
  },
  {
   "cell_type": "code",
   "execution_count": null,
   "id": "08dd012b-c5f0-484f-aa7e-3b3f037c9896",
   "metadata": {},
   "outputs": [],
   "source": [
    "x = 3\n",
    "\n",
    "def f():\n",
    "    x = x + 1\n",
    "    return x\n",
    "\n",
    "f()\n",
    "print(x)"
   ]
  },
  {
   "cell_type": "markdown",
   "id": "f3065da5-9cb9-4c86-8488-5ccd1eefd303",
   "metadata": {
    "slideshow": {
     "slide_type": "subslide"
    },
    "tags": []
   },
   "source": [
    "# What's the output?"
   ]
  },
  {
   "cell_type": "code",
   "execution_count": 11,
   "id": "dcb4b6c9-d523-44c1-84c7-9c41486c926c",
   "metadata": {},
   "outputs": [
    {
     "ename": "UnboundLocalError",
     "evalue": "local variable 'x' referenced before assignment",
     "output_type": "error",
     "traceback": [
      "\u001b[0;31m---------------------------------------------------------------------------\u001b[0m",
      "\u001b[0;31mUnboundLocalError\u001b[0m                         Traceback (most recent call last)",
      "\u001b[0;32m/tmp/ipykernel_162/3342362690.py\u001b[0m in \u001b[0;36m<module>\u001b[0;34m\u001b[0m\n\u001b[1;32m      5\u001b[0m     \u001b[0;32mreturn\u001b[0m \u001b[0mx\u001b[0m\u001b[0;34m\u001b[0m\u001b[0;34m\u001b[0m\u001b[0m\n\u001b[1;32m      6\u001b[0m \u001b[0;34m\u001b[0m\u001b[0m\n\u001b[0;32m----> 7\u001b[0;31m \u001b[0mf\u001b[0m\u001b[0;34m(\u001b[0m\u001b[0;34m)\u001b[0m\u001b[0;34m\u001b[0m\u001b[0;34m\u001b[0m\u001b[0m\n\u001b[0m\u001b[1;32m      8\u001b[0m \u001b[0mprint\u001b[0m\u001b[0;34m(\u001b[0m\u001b[0mx\u001b[0m\u001b[0;34m)\u001b[0m\u001b[0;34m\u001b[0m\u001b[0;34m\u001b[0m\u001b[0m\n",
      "\u001b[0;32m/tmp/ipykernel_162/3342362690.py\u001b[0m in \u001b[0;36mf\u001b[0;34m()\u001b[0m\n\u001b[1;32m      2\u001b[0m \u001b[0;34m\u001b[0m\u001b[0m\n\u001b[1;32m      3\u001b[0m \u001b[0;32mdef\u001b[0m \u001b[0mf\u001b[0m\u001b[0;34m(\u001b[0m\u001b[0;34m)\u001b[0m\u001b[0;34m:\u001b[0m\u001b[0;34m\u001b[0m\u001b[0;34m\u001b[0m\u001b[0m\n\u001b[0;32m----> 4\u001b[0;31m     \u001b[0mx\u001b[0m \u001b[0;34m=\u001b[0m \u001b[0mx\u001b[0m \u001b[0;34m+\u001b[0m \u001b[0;36m1\u001b[0m\u001b[0;34m\u001b[0m\u001b[0;34m\u001b[0m\u001b[0m\n\u001b[0m\u001b[1;32m      5\u001b[0m     \u001b[0;32mreturn\u001b[0m \u001b[0mx\u001b[0m\u001b[0;34m\u001b[0m\u001b[0;34m\u001b[0m\u001b[0m\n\u001b[1;32m      6\u001b[0m \u001b[0;34m\u001b[0m\u001b[0m\n",
      "\u001b[0;31mUnboundLocalError\u001b[0m: local variable 'x' referenced before assignment"
     ]
    }
   ],
   "source": [
    "x = 3\n",
    "\n",
    "def f():\n",
    "    x = x + 1\n",
    "    return x\n",
    "\n",
    "f()\n",
    "print(x)"
   ]
  }
 ],
 "metadata": {
  "kernelspec": {
   "display_name": "Python 3 (ipykernel)",
   "language": "python",
   "name": "python3"
  },
  "language_info": {
   "codemirror_mode": {
    "name": "ipython",
    "version": 3
   },
   "file_extension": ".py",
   "mimetype": "text/x-python",
   "name": "python",
   "nbconvert_exporter": "python",
   "pygments_lexer": "ipython3",
   "version": "3.8.10"
  }
 },
 "nbformat": 4,
 "nbformat_minor": 5
}
